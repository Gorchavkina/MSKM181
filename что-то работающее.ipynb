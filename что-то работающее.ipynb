{
 "cells": [
  {
   "cell_type": "markdown",
   "metadata": {},
   "source": [
    "## Применение скрытой марковской модели для анализа структуры участка генома"
   ]
  },
  {
   "cell_type": "code",
   "execution_count": 1,
   "metadata": {},
   "outputs": [],
   "source": [
    "import numpy as np\n",
    "import pandas as pd\n",
    "import matplotlib.pyplot as plt\n",
    "import math\n",
    "%matplotlib inline"
   ]
  },
  {
   "cell_type": "markdown",
   "metadata": {},
   "source": [
    " ### В задаче распознавания фрагментов генов можно выделить 4 наблюдаемых величины - типы считуемых нуклеотидов - A, C, G, T. Используя аналогию с нечестным казино, пусть имеем 2 скрытых состояния. Тогда матрица перехода (transmision matrix) T = 2x2, а эмиссионная матрица (emision matrix) E = 2x4."
   ]
  },
  {
   "cell_type": "code",
   "execution_count": 111,
   "metadata": {},
   "outputs": [],
   "source": [
    "observable = [\"A\",\"C\",\"G\",\"T\"]\n",
    "states = [0, 1] #честному состоянию соответствует 0, смещенному - 1\n",
    "m = 2 #количество скрытых состояний\n",
    "k = 4 #количество возможных наблюдаемых состояний\n",
    "L = 200 #длина генерируемой цепочки"
   ]
  },
  {
   "cell_type": "markdown",
   "metadata": {},
   "source": [
    "## 1. Задаем матрицы T, E, а также начальное распределение pi"
   ]
  },
  {
   "cell_type": "code",
   "execution_count": 112,
   "metadata": {},
   "outputs": [],
   "source": [
    "pi = np.array([0.5, 0.5]) #вероятности нахождения в каждом скрытом состоянии \n",
    "T = np.array([[0.95,0.05],[0.1,0.9]])\n",
    "E = np.array([[1/k, 1/k, 1/k, 1/k],[0.1, 0.1, 0.1, 0.7]])"
   ]
  },
  {
   "cell_type": "markdown",
   "metadata": {},
   "source": [
    "## 2. При заданных параметрех системы используем случайный генератор СММ для того, чтобы получить последовательность наблдаемых величин x длины L и соответствующую ей цепочку скрытых состояний."
   ]
  },
  {
   "cell_type": "code",
   "execution_count": 113,
   "metadata": {},
   "outputs": [
    {
     "name": "stdout",
     "output_type": "stream",
     "text": [
      "[1 1 1 1 1 0 0 0 0 0 0 0 0 0 0 0 0 0 0 0 0 0 1 1 1 1 1 1 1 1 1 1 1 1 1 1 1\n",
      " 1 1 0 0 0 0 0 0 0 0 0 0 0 0 0 0 0 0 0 0 0 0 1 1 0 0 0 0 0 0 0 0 1 1 1 1 1\n",
      " 1 1 1 1 1 1 1 1 1 0 0 0 0 0 0 0 1 1 1 1 0 0 0 0 0 0 0 0 0 0 0 0 0 0 0 0 0\n",
      " 0 0 0 0 0 0 0 0 0 0 0 0 0 0 0 0 1 0 0 0 0 0 0 0 0 0 1 1 1 0 0 0 0 0 0 0 0\n",
      " 0 0 0 0 0 0 0 1 1 0 0 0 0 0 0 0 0 0 0 0 1 1 1 1 1 1 1 1 1 0 0 0 0 0 0 0 0\n",
      " 0 0 0 0 0 0 0 0 0 0 0 0 0 0 0]\n"
     ]
    }
   ],
   "source": [
    "def next_state(weights):\n",
    "    choice = np.random.random() * sum(weights)\n",
    "    for i, w in enumerate(weights):\n",
    "        choice -= w\n",
    "        if choice < 0:\n",
    "            return i\n",
    "        \n",
    "#вычислим частоту состояний\n",
    "count = 0\n",
    "for i in range(L):\n",
    "    count += next_state(pi)\n",
    "#print (\"Expected ratio number of Fair states:\",(L - count)/L)\n",
    "#print (\"Expected ratio number of Biased states:\", count/L)\n",
    "\n",
    "def create_hidden_sequence(pi, T, L):\n",
    "    out = [None]*L\n",
    "    out[0] = next_state(pi)\n",
    "    for i in range(1, L):\n",
    "        out[i] = next_state(T[out[i-1]])\n",
    "    return out\n",
    "def create_observation_sequence(hidden_sequence, E):\n",
    "    length = len(hidden_sequence)\n",
    "    out = [None]*length\n",
    "    for i in range(length):\n",
    "        out[i] = next_state(E[hidden_sequence[i]])\n",
    "    return out\n",
    "hidden = np.array(create_hidden_sequence(pi, T, L))\n",
    "observed = np.array(create_observation_sequence(hidden, E))\n",
    "obs_map = {'A':0, 'C':1, 'G':2, 'T':3}\n",
    "inv_obs_map = dict((v,k) for k, v in obs_map.items())\n",
    "obs_seq = [inv_obs_map[v] for v in list(observed)]\n",
    "\n",
    "obs_seq = pd.DataFrame(np.column_stack([observed, obs_seq]), columns=['Obs_code', 'Obs_seq']) \n",
    "#print(observed)\n",
    "hidd_seq = pd.DataFrame(hidden, columns = [\"Hidd_seq\"])\n",
    "print(hidden) #последовательность скрытых состояний\n",
    "out = obs_seq.join(hidd_seq)\n",
    "#(out) #вывод полного состояния"
   ]
  },
  {
   "cell_type": "code",
   "execution_count": 114,
   "metadata": {},
   "outputs": [
    {
     "name": "stdout",
     "output_type": "stream",
     "text": [
      "[1 1 1 1 1 1 1 0 0 0 0 0 0 0 0 0 0 0 0 0 0 0 0 0 0 0 0 0 0 0 0 0 0 0 0 0 0\n",
      " 0 0 0 0 0 0 0 0 0 0 0 0 0 0 0 0 0 0 0 0 0 0 0 0 0 0 0 1 1 1 1 1 1 1 1 1 1\n",
      " 1 1 1 1 1 1 1 1 1 1 1 1 1 1 0 0 0 0 0 0 0 0 0 0 0 0 0 0 0 1 1 1 1 1 1 1 1\n",
      " 1 1 1 1 1 0 0 0 0 0 0 0 0 0 0 0 0 0 0 1 1 1 1 1 1 1 1 1 1 1 1 1 1 1 1 0 0\n",
      " 0 0 0 0 0 0 0 0 0 0 0 0 0 0 0 0 0 0 0 0 0 0 0 0 0 0 0 0 0 0 0 0 0 0 0 0 0\n",
      " 0 0 0 0 0 0 0 0 0 0 0 0 0 0 0]\n"
     ]
    }
   ],
   "source": [
    "from hmmlearn import hmm\n",
    "model = hmm.MultinomialHMM(n_components = m)\n",
    "model.startprob_ = pi\n",
    "model.transmat_ = T\n",
    "model.emissionprob_ = E\n",
    "X = model.sample(L)\n",
    "#print(X[0]) #последовательность наблюдаемых состояний\n",
    "print(X[1]) #последовательность скрытых состояний\n"
   ]
  },
  {
   "cell_type": "markdown",
   "metadata": {},
   "source": [
    "## 3. Используем алгоритм Витерби, чтобы восстановить последовательность скрытых состояний (выше - Х[1])."
   ]
  },
  {
   "cell_type": "code",
   "execution_count": 115,
   "metadata": {},
   "outputs": [],
   "source": [
    "def viterbi(observed):\n",
    "    V = np.zeros((L, m))\n",
    "    for j in range(m):\n",
    "        V[0, j] = E[j, observed[0]]*pi[j]\n",
    "    for i in range(1, L):\n",
    "        for j in range(m):\n",
    "            if j == 0:\n",
    "                V[i, j] = E[j, observed[i]]*max(V[i-1][1]*T[1,0], V[i-1][j]*T[j, j])\n",
    "            if j == 1:\n",
    "                V[i, j] = E[j, observed[i]]*max(V[i-1][0]*T[0,1], V[i-1][j]*T[j,j])\n",
    "    return V \n",
    " "
   ]
  },
  {
   "cell_type": "markdown",
   "metadata": {},
   "source": [
    "## Проиллюстрируеем работу алгоритма Витерби на примере имеющихся посдедовательностей"
   ]
  },
  {
   "cell_type": "code",
   "execution_count": 116,
   "metadata": {},
   "outputs": [
    {
     "data": {
      "image/png": "[encoded data removed]",
      "text/plain": [
       "<Figure size 432x288 with 1 Axes>"
      ]
     },
     "metadata": {
      "needs_background": "light"
     },
     "output_type": "display_data"
    }
   ],
   "source": [
    "# вручную запрограммированный алгоритм СММ\n",
    "V1 = viterbi(observed)\n",
    "Vhidd_seq1 = np.argmax(V1, axis = 1) #искомая последовательность скрытых состояний\n",
    "#print (pd.DataFrame(np.argmax(V1, axis = 1), columns = ['Vhidd_seq1']))\n",
    "#print (pd.DataFrame(V1, columns = ['prob_state_1','prob_state_2']))\n",
    "ind = np.arange(L) \n",
    "p1 = plt.bar(ind, hidden) \n",
    "p2 = plt.bar(ind, Vhidd_seq1, bottom = hidden)\n",
    "plt.title('Графическа оценка алгоритма Витерби')\n",
    "plt.legend((p1[0], p2[0]), ('СММ', 'АВ'))\n",
    "plt.show()"
   ]
  },
  {
   "cell_type": "code",
   "execution_count": 117,
   "metadata": {},
   "outputs": [
    {
     "data": {
      "image/png": "[encoded data removed]",
      "text/plain": [
       "<Figure size 432x288 with 1 Axes>"
      ]
     },
     "metadata": {
      "needs_background": "light"
     },
     "output_type": "display_data"
    }
   ],
   "source": [
    "# встроенный аогоритм СММ\n",
    "V2 = viterbi(X[0])\n",
    "Vhidd_seq2 = np.argmax(V2, axis = 1) #искомая последовательность скрытых состояний\n",
    "#print (pd.DataFrame(np.argmax(V2, axis = 1), columns = ['Vhidd_seq2']))\n",
    "#print (pd.DataFrame(V2, column = ['prob_state_1','prob_state_2']))\n",
    "ind = np.arange(L) \n",
    "p1 = plt.bar(ind, X[1]) \n",
    "p2 = plt.bar(ind, Vhidd_seq2, bottom = X[1])\n",
    "plt.title('Графическа оценка алгоритма Витерби')\n",
    "plt.legend((p1[0], p2[0]), ('СММ', 'АВ'))\n",
    "plt.show()"
   ]
  },
  {
   "cell_type": "markdown",
   "metadata": {},
   "source": [
    "### В обоих варинтах есть области несовпадания (когда над синей областью нет желтой или когда желтая область существует сама по себе), но, в целом, все ок. Работа запрограммированного вручную алгоритма ничем не отличается от результатов встроенного модуля."
   ]
  },
  {
   "cell_type": "markdown",
   "metadata": {},
   "source": [
    "## 3. Найдем вероятность сгенерированной цепочки наблюдаемых величин Х, используя прямой алгоритм (forward algorithm)"
   ]
  },
  {
   "cell_type": "code",
   "execution_count": 118,
   "metadata": {},
   "outputs": [
    {
     "data": {
      "text/plain": [
       "2.3422714665887095e-117"
      ]
     },
     "execution_count": 118,
     "metadata": {},
     "output_type": "execute_result"
    }
   ],
   "source": [
    "def forward(obs, states, pi, T, E):\n",
    "    \n",
    "    fwd = np.zeros((L+1, m))\n",
    "    for j in range(m):\n",
    "        fwd[0, j] = pi[j]\n",
    "#    fwd[0] = pi\n",
    "    \n",
    "    for state in states:\n",
    "        fwd[1, state] = pi[state]*E[state, obs[0]]\n",
    "        \n",
    "    for i in range(2, L+1):\n",
    "        for state1 in states:\n",
    "            for state2 in states:\n",
    "                fwd[i, state1] += fwd[i - 1, state2]*T[state2, state1]    \n",
    "            fwd[i, state1] *= E[state1, obs[i-1]]\n",
    "    return fwd\n",
    "F = forward(X[0], states, pi, T, E)\n",
    "sum(forward(X[0], states, pi, T, E)[-1]) #sum(forward(observed, states, pi, T, E)[-1])"
   ]
  },
  {
   "cell_type": "markdown",
   "metadata": {},
   "source": [
    "## 4. Выполним обратный алгоритм (backward algorithm)"
   ]
  },
  {
   "cell_type": "code",
   "execution_count": 125,
   "metadata": {},
   "outputs": [
    {
     "data": {
      "text/plain": [
       "2.3422714665887127e-117"
      ]
     },
     "execution_count": 125,
     "metadata": {},
     "output_type": "execute_result"
    }
   ],
   "source": [
    "def backward(obs, T, E, pi):\n",
    "\n",
    "    bk = np.zeros((L+1, m))\n",
    "    \n",
    "    for j in range(m):\n",
    "        bk[L, j] = pi[j]\n",
    "    \n",
    "    for i in range(L-1,-1,-1):\n",
    "        for state1 in states:\n",
    "            for state2 in states:\n",
    "                bk[i, state1] += bk[i+1, state2]*T[state1, state2]\n",
    "            bk[i, state1] *= E[state1, obs[i]]\n",
    "    return bk\n",
    "B = backward(X[0], T, E, pi) #B = backward(observed, T, E, pi)\n",
    "sum(B[0])"
   ]
  },
  {
   "cell_type": "markdown",
   "metadata": {},
   "source": [
    "### Вероятности, сгенерированные прямым и обратным алгоритмами, дают одинаковые значения."
   ]
  },
  {
   "cell_type": "markdown",
   "metadata": {},
   "source": [
    "## 5. Посчитаем апостериорную вероятность."
   ]
  },
  {
   "cell_type": "code",
   "execution_count": 123,
   "metadata": {},
   "outputs": [
    {
     "data": {
      "text/plain": [
       "array([[0.11230783, 0.38769217],\n",
       "       [0.06190062, 0.42801793],\n",
       "       [0.04263128, 0.48197208],\n",
       "       [0.03880852, 0.49267584],\n",
       "       [0.04638324, 0.47146662],\n",
       "       [0.0733786 , 0.3958796 ],\n",
       "       [0.14838815, 0.18585287],\n",
       "       [0.34679078, 0.10649181],\n",
       "       [0.41650408, 0.07860649],\n",
       "       [0.43054249, 0.07299113],\n",
       "       [0.4388243 , 0.04980207],\n",
       "       [0.46925676, 0.03762909],\n",
       "       [0.46880743, 0.03780882],\n",
       "       [0.47217985, 0.02836603],\n",
       "       [0.49073811, 0.02094272],\n",
       "       [0.48851055, 0.02183375],\n",
       "       [0.49148576, 0.01350318],\n",
       "       [0.50968929, 0.00622176],\n",
       "       [0.51601382, 0.00369195],\n",
       "       [0.51708337, 0.00326413],\n",
       "       [0.51401814, 0.00449022],\n",
       "       [0.50360776, 0.00865437],\n",
       "       [0.50370622, 0.00837869],\n",
       "       [0.51464531, 0.00400305],\n",
       "       [0.51853399, 0.00244758],\n",
       "       [0.51944511, 0.00208313],\n",
       "       [0.51833293, 0.002528  ],\n",
       "       [0.51403258, 0.00424814],\n",
       "       [0.50204011, 0.00904513],\n",
       "       [0.5015259 , 0.01048491],\n",
       "       [0.51075723, 0.00679238],\n",
       "       [0.51075705, 0.00679245],\n",
       "       [0.50152518, 0.0104852 ],\n",
       "       [0.50203918, 0.00904601],\n",
       "       [0.51403106, 0.00424926],\n",
       "       [0.51832998, 0.00252969],\n",
       "       [0.51943844, 0.00208631],\n",
       "       [0.51851738, 0.00245473],\n",
       "       [0.51460214, 0.00402083],\n",
       "       [0.50359206, 0.00842486],\n",
       "       [0.50346556, 0.00877906],\n",
       "       [0.51379635, 0.00464675],\n",
       "       [0.51665361, 0.00350384],\n",
       "       [0.51502989, 0.00415333],\n",
       "       [0.50722458, 0.00727546],\n",
       "       [0.48506275, 0.01614019],\n",
       "       [0.48052302, 0.02885143],\n",
       "       [0.47830785, 0.0297375 ],\n",
       "       [0.44814565, 0.04180237],\n",
       "       [0.44010052, 0.06432874],\n",
       "       [0.45280039, 0.02876911],\n",
       "       [0.49565631, 0.01162674],\n",
       "       [0.51161669, 0.00524259],\n",
       "       [0.51739768, 0.00293019],\n",
       "       [0.51905404, 0.00226765],\n",
       "       [0.51832054, 0.00256105],\n",
       "       [0.51442894, 0.00411769],\n",
       "       [0.50330339, 0.00856791],\n",
       "       [0.50312998, 0.00905347],\n",
       "       [0.51332433, 0.00497573],\n",
       "       [0.51576557, 0.00399924],\n",
       "       [0.51301053, 0.00510125],\n",
       "       [0.50217371, 0.00943598],\n",
       "       [0.47190516, 0.0215434 ],\n",
       "       [0.390503  , 0.05410427],\n",
       "       [0.17271044, 0.14122129],\n",
       "       [0.09092865, 0.37021029],\n",
       "       [0.0617169 , 0.4520032 ],\n",
       "       [0.05413404, 0.4732352 ],\n",
       "       [0.0601483 , 0.45639526],\n",
       "       [0.08613   , 0.38364651],\n",
       "       [0.14915471, 0.35843662],\n",
       "       [0.17151933, 0.29581571],\n",
       "       [0.22858601, 0.27298904],\n",
       "       [0.21584119, 0.27808696],\n",
       "       [0.21070417, 0.29247061],\n",
       "       [0.19586472, 0.29840639],\n",
       "       [0.09583516, 0.33841821],\n",
       "       [0.05632341, 0.44905114],\n",
       "       [0.04352212, 0.48489475],\n",
       "       [0.04387216, 0.48391464],\n",
       "       [0.05774428, 0.44507269],\n",
       "       [0.08680223, 0.43344951],\n",
       "       [0.09522048, 0.40987841],\n",
       "       [0.11136606, 0.40342017],\n",
       "       [0.06294709, 0.42278776],\n",
       "       [0.0419844 , 0.4814833 ],\n",
       "       [0.0371583 , 0.49499637],\n",
       "       [0.04335699, 0.47764002],\n",
       "       [0.06714614, 0.41103041],\n",
       "       [0.12338887, 0.38853332],\n",
       "       [0.14274357, 0.33434017],\n",
       "       [0.20425319, 0.16211322],\n",
       "       [0.36853187, 0.09640175],\n",
       "       [0.4247563 , 0.07391198],\n",
       "       [0.4318133 , 0.07108918],\n",
       "       [0.43747893, 0.05522541],\n",
       "       [0.4608447 , 0.04587911],\n",
       "       [0.45200414, 0.04941533],\n",
       "       [0.45198435, 0.04947073],\n",
       "       [0.46071868, 0.045977  ],\n",
       "       [0.43718745, 0.05538949],\n",
       "       [0.35674517, 0.0875664 ],\n",
       "       [0.13514035, 0.17620833],\n",
       "       [0.05134949, 0.41082274],\n",
       "       [0.02018437, 0.49808509],\n",
       "       [0.00863483, 0.53042379],\n",
       "       [0.00446759, 0.54209206],\n",
       "       [0.00326871, 0.54544894],\n",
       "       [0.00376831, 0.54405004],\n",
       "       [0.00649559, 0.53641367],\n",
       "       [0.01433928, 0.51445134],\n",
       "       [0.02504618, 0.51016858],\n",
       "       [0.02541577, 0.50913373],\n",
       "       [0.0355781 , 0.48067921],\n",
       "       [0.06629712, 0.39466595],\n",
       "       [0.15011047, 0.15998856],\n",
       "       [0.37242557, 0.07106253],\n",
       "       [0.45432245, 0.03830378],\n",
       "       [0.48157606, 0.02740233],\n",
       "       [0.48273055, 0.02694053],\n",
       "       [0.48690089, 0.0152636 ],\n",
       "       [0.50813986, 0.00676801],\n",
       "       [0.51576438, 0.0037182 ],\n",
       "       [0.51776   , 0.00291995],\n",
       "       [0.51621685, 0.00353721],\n",
       "       [0.5095187 , 0.00621647],\n",
       "       [0.49065021, 0.01376387],\n",
       "       [0.48741545, 0.0228212 ],\n",
       "       [0.48891423, 0.02222168],\n",
       "       [0.46855883, 0.03036384],\n",
       "       [0.46446415, 0.04182894],\n",
       "       [0.46283234, 0.04248167],\n",
       "       [0.46567525, 0.03452151],\n",
       "       [0.48257267, 0.02776254],\n",
       "       [0.4755776 , 0.03056057],\n",
       "       [0.43736375, 0.04584611],\n",
       "       [0.32790773, 0.08962852],\n",
       "       [0.28862295, 0.19962589],\n",
       "       [0.2823351 , 0.21723188],\n",
       "       [0.30238406, 0.16109478],\n",
       "       [0.35885226, 0.1385075 ],\n",
       "       [0.3821201 , 0.07335754],\n",
       "       [0.45059337, 0.04596824],\n",
       "       [0.46997667, 0.03821492],\n",
       "       [0.46057114, 0.04197713],\n",
       "       [0.46046187, 0.04228307],\n",
       "       [0.46928068, 0.03875555],\n",
       "       [0.47615485, 0.01950786],\n",
       "       [0.50424835, 0.00827046],\n",
       "       [0.51456863, 0.00414235],\n",
       "       [0.51792467, 0.00279993],\n",
       "       [0.51783142, 0.00283723],\n",
       "       [0.51419121, 0.00429332],\n",
       "       [0.50319145, 0.00869322],\n",
       "       [0.50306376, 0.00905076],\n",
       "       [0.51337784, 0.00492513],\n",
       "       [0.51595011, 0.00389622],\n",
       "       [0.51347463, 0.00488641],\n",
       "       [0.5033587 , 0.00893278],\n",
       "       [0.50356441, 0.0083568 ],\n",
       "       [0.51478493, 0.00386859],\n",
       "       [0.51898083, 0.00219023],\n",
       "       [0.52054671, 0.00156388],\n",
       "       [0.52112257, 0.00133353],\n",
       "       [0.52131157, 0.00125794],\n",
       "       [0.52131163, 0.00125791],\n",
       "       [0.52112284, 0.00133343],\n",
       "       [0.52054745, 0.00156358],\n",
       "       [0.51898282, 0.00218943],\n",
       "       [0.51479025, 0.00386646],\n",
       "       [0.50357864, 0.00835111],\n",
       "       [0.50337645, 0.00891724],\n",
       "       [0.51350236, 0.00486688],\n",
       "       [0.51600393, 0.00386625],\n",
       "       [0.51350119, 0.00486734],\n",
       "       [0.50337288, 0.00891867],\n",
       "       [0.50357413, 0.00835518],\n",
       "       [0.51478307, 0.0038716 ],\n",
       "       [0.51896892, 0.00219726],\n",
       "       [0.52051573, 0.00157854],\n",
       "       [0.52104355, 0.00136741],\n",
       "       [0.5211052 , 0.00134275],\n",
       "       [0.52076525, 0.00147873],\n",
       "       [0.51966767, 0.00191776],\n",
       "       [0.51666289, 0.00311967],\n",
       "       [0.50860383, 0.00634329],\n",
       "       [0.48704984, 0.01496489],\n",
       "       [0.48276399, 0.02696527],\n",
       "       [0.48130424, 0.02754917],\n",
       "       [0.48447031, 0.01868418],\n",
       "       [0.50293092, 0.01129993],\n",
       "       [0.50607321, 0.01004301],\n",
       "       [0.49718826, 0.013597  ],\n",
       "       [0.4977765 , 0.01194991],\n",
       "       [0.50982015, 0.00713246],\n",
       "       [0.51159756, 0.00642149],\n",
       "       [0.50497033, 0.00907238],\n",
       "       [0.48299741, 0.01786155],\n",
       "       [0.42266539, 0.04199436]])"
      ]
     },
     "execution_count": 123,
     "metadata": {},
     "output_type": "execute_result"
    }
   ],
   "source": [
    "PS = np.zeros((L, m))\n",
    "for i in range(L):\n",
    "    for j in range(m):\n",
    "        PS[i, j] = F[i][j]*B[i][j]/sum(B[0])\n",
    "PS"
   ]
  },
  {
   "cell_type": "markdown",
   "metadata": {},
   "source": [
    " Что ж, сумма значений в строке не = 1, а это значит, что что-то пошло не так. Можем сравнить найденную апостериорную верояность с аналогичной функцией встроенного модуля. По не установленной мною причине, найденная вручную вероятность отличается от встроенной почти точно в два раза."
   ]
  },
  {
   "cell_type": "code",
   "execution_count": 131,
   "metadata": {},
   "outputs": [
    {
     "data": {
      "text/plain": [
       "array([[0.22461567, 0.77538433],\n",
       "       [0.12256324, 0.87743676],\n",
       "       [0.09088645, 0.90911355],\n",
       "       [0.09603322, 0.90396678],\n",
       "       [0.14345501, 0.85654499],\n",
       "       [0.28338106, 0.71661894],\n",
       "       [0.66402127, 0.33597873],\n",
       "       [0.80319595, 0.19680405],\n",
       "       [0.84667012, 0.15332988],\n",
       "       [0.83997658, 0.16002342],\n",
       "       [0.90414586, 0.09585414],\n",
       "       [0.91970962, 0.08029038],\n",
       "       [0.90296862, 0.09703138],\n",
       "       [0.94311425, 0.05688575],\n",
       "       [0.95159126, 0.04840874],\n",
       "       [0.93727805, 0.06272195],\n",
       "       [0.97223917, 0.02776083],\n",
       "       [0.9849713 , 0.0150287 ],\n",
       "       [0.98880945, 0.01119055],\n",
       "       [0.98777352, 0.01222648],\n",
       "       [0.98077855, 0.01922145],\n",
       "       [0.96049832, 0.03950168],\n",
       "       [0.98146187, 0.01853813],\n",
       "       [0.98915872, 0.01084128],\n",
       "       [0.99165023, 0.00834977],\n",
       "       [0.99154586, 0.00845414],\n",
       "       [0.9887363 , 0.0112637 ],\n",
       "       [0.98027896, 0.01972104],\n",
       "       [0.95731601, 0.04268399],\n",
       "       [0.97671036, 0.02328964],\n",
       "       [0.9815021 , 0.0184979 ],\n",
       "       [0.97670989, 0.02329011],\n",
       "       [0.9573146 , 0.0426854 ],\n",
       "       [0.98027702, 0.01972298],\n",
       "       [0.98873331, 0.01126669],\n",
       "       [0.9915402 , 0.0084598 ],\n",
       "       [0.99163748, 0.00836252],\n",
       "       [0.98912703, 0.01087297],\n",
       "       [0.98137954, 0.01862046],\n",
       "       [0.96028064, 0.03971936],\n",
       "       [0.98050161, 0.01949839],\n",
       "       [0.98734732, 0.01265268],\n",
       "       [0.98798763, 0.01201237],\n",
       "       [0.98309316, 0.01690684],\n",
       "       [0.9675377 , 0.0324623 ],\n",
       "       [0.92502918, 0.07497082],\n",
       "       [0.93603199, 0.06396801],\n",
       "       [0.91922542, 0.08077458],\n",
       "       [0.85700704, 0.14299296],\n",
       "       [0.86339222, 0.13660778],\n",
       "       [0.94514412, 0.05485588],\n",
       "       [0.97567472, 0.02432528],\n",
       "       [0.98696032, 0.01303968],\n",
       "       [0.99082093, 0.00917907],\n",
       "       [0.99129997, 0.00870003],\n",
       "       [0.98889916, 0.01110084],\n",
       "       [0.981104  , 0.018896  ],\n",
       "       [0.95975022, 0.04024978],\n",
       "       [0.97990049, 0.02009951],\n",
       "       [0.98645942, 0.01354058],\n",
       "       [0.98629653, 0.01370347],\n",
       "       [0.97924122, 0.02075878],\n",
       "       [0.95790408, 0.04209592],\n",
       "       [0.8999376 , 0.1000624 ],\n",
       "       [0.74463041, 0.25536959],\n",
       "       [0.32932109, 0.67067891],\n",
       "       [0.17706482, 0.82293518],\n",
       "       [0.12659153, 0.87340847],\n",
       "       [0.12443979, 0.87556021],\n",
       "       [0.1683305 , 0.8316695 ],\n",
       "       [0.30475278, 0.69524722],\n",
       "       [0.33345526, 0.66654474],\n",
       "       [0.45996319, 0.54003681],\n",
       "       [0.48296996, 0.51703004],\n",
       "       [0.42657176, 0.57342824],\n",
       "       [0.44731906, 0.55268094],\n",
       "       [0.3876924 , 0.6123076 ],\n",
       "       [0.18524163, 0.81475837],\n",
       "       [0.11348079, 0.88651921],\n",
       "       [0.09640069, 0.90359931],\n",
       "       [0.11591006, 0.88408994],\n",
       "       [0.19267324, 0.80732676],\n",
       "       [0.19204188, 0.80795812],\n",
       "       [0.2510959 , 0.7489041 ],\n",
       "       [0.2343433 , 0.7656567 ],\n",
       "       [0.12423819, 0.87576181],\n",
       "       [0.08886222, 0.91113778],\n",
       "       [0.09074509, 0.90925491],\n",
       "       [0.13188115, 0.86811885],\n",
       "       [0.25584179, 0.74415821],\n",
       "       [0.2792371 , 0.7207629 ],\n",
       "       [0.39016337, 0.60983663],\n",
       "       [0.70611389, 0.29388611],\n",
       "       [0.82057352, 0.17942648],\n",
       "       [0.85342189, 0.14657811],\n",
       "       [0.83906285, 0.16093715],\n",
       "       [0.89274137, 0.10725863],\n",
       "       [0.90028117, 0.09971883],\n",
       "       [0.86957909, 0.13042091],\n",
       "       [0.90014387, 0.09985613],\n",
       "       [0.89246304, 0.10753696],\n",
       "       [0.83849205, 0.16150795],\n",
       "       [0.68170424, 0.31829576],\n",
       "       [0.25788744, 0.74211256],\n",
       "       [0.10019566, 0.89980434],\n",
       "       [0.04160148, 0.95839852],\n",
       "       [0.02004187, 0.97995813],\n",
       "       [0.01268085, 0.98731915],\n",
       "       [0.0117216 , 0.9882784 ],\n",
       "       [0.01614811, 0.98385189],\n",
       "       [0.03064891, 0.96935109],\n",
       "       [0.0705833 , 0.9294167 ],\n",
       "       [0.05870101, 0.94129899],\n",
       "       [0.07314825, 0.92685175],\n",
       "       [0.12922756, 0.87077244],\n",
       "       [0.28633825, 0.71366175],\n",
       "       [0.71089223, 0.28910777],\n",
       "       [0.86880379, 0.13119621],\n",
       "       [0.92546206, 0.07453794],\n",
       "       [0.94020825, 0.05979175],\n",
       "       [0.92848683, 0.07151317],\n",
       "       [0.96915038, 0.03084962],\n",
       "       [0.98413295, 0.01586705],\n",
       "       [0.98912662, 0.01087338],\n",
       "       [0.98936148, 0.01063852],\n",
       "       [0.98508355, 0.01491645],\n",
       "       [0.97181232, 0.02818768],\n",
       "       [0.93564812, 0.06435188],\n",
       "       [0.94936309, 0.05063691],\n",
       "       [0.93957492, 0.06042508],\n",
       "       [0.89603193, 0.10396807],\n",
       "       [0.91115785, 0.08884215],\n",
       "       [0.89175659, 0.10824341],\n",
       "       [0.93088767, 0.06911233],\n",
       "       [0.93602782, 0.06397218],\n",
       "       [0.9125606 , 0.0874394 ],\n",
       "       [0.83590753, 0.16409247],\n",
       "       [0.62578581, 0.37421419],\n",
       "       [0.5632712 , 0.4367288 ],\n",
       "       [0.58214811, 0.41785189],\n",
       "       [0.702411  , 0.297589  ],\n",
       "       [0.7300948 , 0.2699052 ],\n",
       "       [0.86388982, 0.13611018],\n",
       "       [0.90949476, 0.09050524],\n",
       "       [0.91467405, 0.08532595],\n",
       "       [0.88485228, 0.11514772],\n",
       "       [0.91391575, 0.08608425],\n",
       "       [0.90795754, 0.09204246],\n",
       "       [0.96162253, 0.03837747],\n",
       "       [0.98156251, 0.01843749],\n",
       "       [0.98866167, 0.01133833],\n",
       "       [0.99035533, 0.00964467],\n",
       "       [0.98841735, 0.01158265],\n",
       "       [0.98081798, 0.01918202],\n",
       "       [0.95959799, 0.04040201],\n",
       "       [0.97993179, 0.02006821],\n",
       "       [0.98662088, 0.01337912],\n",
       "       [0.98667112, 0.01332888],\n",
       "       [0.98013512, 0.01986488],\n",
       "       [0.96016739, 0.03983261],\n",
       "       [0.98156274, 0.01843726],\n",
       "       [0.98956516, 0.01043484],\n",
       "       [0.99255601, 0.00744399],\n",
       "       [0.99366775, 0.00633225],\n",
       "       [0.99406478, 0.00593522],\n",
       "       [0.99416292, 0.00583708],\n",
       "       [0.99406495, 0.00593505],\n",
       "       [0.99366827, 0.00633173],\n",
       "       [0.99255743, 0.00744257],\n",
       "       [0.98956896, 0.01043104],\n",
       "       [0.98157289, 0.01842711],\n",
       "       [0.96019453, 0.03980547],\n",
       "       [0.98016969, 0.01983031],\n",
       "       [0.98672442, 0.01327558],\n",
       "       [0.98672381, 0.01327619],\n",
       "       [0.98016723, 0.01983277],\n",
       "       [0.96018764, 0.03981236],\n",
       "       [0.98156388, 0.01843612],\n",
       "       [0.98955507, 0.01044493],\n",
       "       [0.9925308 , 0.0074692 ],\n",
       "       [0.99360771, 0.00639229],\n",
       "       [0.9939137 , 0.0060863 ],\n",
       "       [0.99376924, 0.00623076],\n",
       "       [0.99302304, 0.00697696],\n",
       "       [0.99089357, 0.00910643],\n",
       "       [0.98515051, 0.01484949],\n",
       "       [0.96977885, 0.03022115],\n",
       "       [0.92867905, 0.07132095],\n",
       "       [0.94003506, 0.05996494],\n",
       "       [0.92485449, 0.07514551],\n",
       "       [0.96200758, 0.03799242],\n",
       "       [0.9732213 , 0.0267787 ],\n",
       "       [0.97024037, 0.02975963],\n",
       "       [0.94994273, 0.05005727],\n",
       "       [0.97432278, 0.02567722],\n",
       "       [0.98149707, 0.01850293],\n",
       "       [0.97897961, 0.02102039],\n",
       "       [0.96413373, 0.03586627],\n",
       "       [0.92141056, 0.07858944],\n",
       "       [0.80606384, 0.19393616]])"
      ]
     },
     "execution_count": 131,
     "metadata": {},
     "output_type": "execute_result"
    }
   ],
   "source": [
    "# аростериорная вероятноть \n",
    "model.predict_proba(X[0]) "
   ]
  },
  {
   "cell_type": "code",
   "execution_count": null,
   "metadata": {},
   "outputs": [],
   "source": []
  }
 ],
 "metadata": {
  "kernelspec": {
   "display_name": "Python 3",
   "language": "python",
   "name": "python3"
  },
  "language_info": {
   "codemirror_mode": {
    "name": "ipython",
    "version": 3
   },
   "file_extension": ".py",
   "mimetype": "text/x-python",
   "name": "python",
   "nbconvert_exporter": "python",
   "pygments_lexer": "ipython3",
   "version": "3.7.0"
  }
 },
 "nbformat": 4,
 "nbformat_minor": 2
}
